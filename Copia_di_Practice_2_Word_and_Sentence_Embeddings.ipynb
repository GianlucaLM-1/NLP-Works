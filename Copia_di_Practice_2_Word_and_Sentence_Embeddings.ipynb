{
  "nbformat": 4,
  "nbformat_minor": 0,
  "metadata": {
    "colab": {
      "name": "Copia di Practice 2 - Word and Sentence Embeddings.ipynb",
      "provenance": [],
      "collapsed_sections": []
    },
    "kernelspec": {
      "display_name": "Python 3",
      "name": "python3"
    },
    "language_info": {
      "name": "python"
    }
  },
  "cells": [
    {
      "cell_type": "markdown",
      "metadata": {
        "id": "dbYDu6cchK-l"
      },
      "source": [
        "#**Deep Natural Language Processing @ PoliTO**\n",
        "\n",
        "---\n",
        "\n",
        "\n",
        "**Teaching Assistant:** Moreno La Quatra\n",
        "\n",
        "**Practice 2:** Word and Sentence Embeddings"
      ]
    },
    {
      "cell_type": "markdown",
      "metadata": {
        "id": "zbJsg8XEOudF"
      },
      "source": [
        "## Word Embedding \n",
        "\n",
        "![](https://qph.fs.quoracdn.net/main-qimg-3e812fd164a08f5e4f195000fecf988f)\n",
        "\n",
        "\n",
        "**Key takeaways** from lessons and in-class practices:\n",
        "- Word embeddings are able to map words into a semantic-aware vector space\n",
        "- There are multiple architectures for the generation of word embeddings\n",
        "- Each architecture has its advantages and disadvantages\n",
        "- Word embedding evaluation could be intrinsic (intermediate tasks) or extrinsic (downstream task)\n",
        "- It is possible to use pre-trained word embedding models or use large amount of text to train it from scratch\n"
      ]
    },
    {
      "cell_type": "markdown",
      "metadata": {
        "id": "w-9kQCr4P8wP"
      },
      "source": [
        "### **Question 1**\n",
        "\n",
        "Train a new Word2Vec model using gensim with the text8 corpus available in the python package ([reference](https://radimrehurek.com/gensim/downloader.html)). Compute the training time for the model and store it for subsequent steps."
      ]
    },
    {
      "cell_type": "code",
      "metadata": {
        "colab": {
          "base_uri": "https://localhost:8080/"
        },
        "id": "UW_G_mRAOt9e",
        "outputId": "fe17b7ba-026c-48f0-eedb-58731df07786"
      },
      "source": [
        "! pip install --upgrade gensim"
      ],
      "execution_count": null,
      "outputs": [
        {
          "name": "stdout",
          "output_type": "stream",
          "text": [
            "Requirement already satisfied: gensim in /usr/local/lib/python3.7/dist-packages (3.6.0)\n",
            "Collecting gensim\n",
            "  Downloading gensim-4.1.2-cp37-cp37m-manylinux_2_12_x86_64.manylinux2010_x86_64.whl (24.1 MB)\n",
            "\u001b[K     |████████████████████████████████| 24.1 MB 2.2 kB/s \n",
            "\u001b[?25hRequirement already satisfied: smart-open>=1.8.1 in /usr/local/lib/python3.7/dist-packages (from gensim) (5.2.1)\n",
            "Requirement already satisfied: numpy>=1.17.0 in /usr/local/lib/python3.7/dist-packages (from gensim) (1.19.5)\n",
            "Requirement already satisfied: scipy>=0.18.1 in /usr/local/lib/python3.7/dist-packages (from gensim) (1.4.1)\n",
            "Installing collected packages: gensim\n",
            "  Attempting uninstall: gensim\n",
            "    Found existing installation: gensim 3.6.0\n",
            "    Uninstalling gensim-3.6.0:\n",
            "      Successfully uninstalled gensim-3.6.0\n",
            "Successfully installed gensim-4.1.2\n"
          ]
        }
      ]
    },
    {
      "cell_type": "code",
      "metadata": {
        "colab": {
          "background_save": true
        },
        "id": "od6-XXHkkkxV",
        "outputId": "2ba3d9d7-2312-41b1-95cf-520aa9251a68"
      },
      "source": [
        "import gensim.downloader as api\n",
        "from gensim.models import Word2Vec\n",
        "\n",
        "dataset = api.load(\"text8\")  # load dataset as iterable\n"
      ],
      "execution_count": null,
      "outputs": [
        {
          "name": "stdout",
          "output_type": "stream",
          "text": [
            "[==================================================] 100.0% 31.6/31.6MB downloaded\n"
          ]
        }
      ]
    },
    {
      "cell_type": "code",
      "metadata": {
        "colab": {
          "background_save": true
        },
        "id": "PlsP0oGWCvP9",
        "outputId": "de1714ae-7159-4228-fbf2-31d7d2679452"
      },
      "source": [
        "%%time\n",
        "model = Word2Vec(dataset)  # train w2v model\n",
        "model.save(\"word2vec.model\")\n"
      ],
      "execution_count": null,
      "outputs": [
        {
          "name": "stdout",
          "output_type": "stream",
          "text": [
            "CPU times: user 1.7 ms, sys: 999 µs, total: 2.69 ms\n",
            "Wall time: 6.45 ms\n"
          ]
        },
        {
          "data": {
            "text/plain": [
              "(0, 1)"
            ]
          },
          "execution_count": null,
          "metadata": {},
          "output_type": "execute_result"
        }
      ]
    },
    {
      "cell_type": "markdown",
      "metadata": {
        "id": "Mij5WNAARGMl"
      },
      "source": [
        "### **Question 2**:\n",
        "Perform intrinsic evaluation of the model for the task of word analogy by exploiting the data collection available [here](https://raw.githubusercontent.com/MorenoLaQuatra/DeepNLP/main/practices/P2/google_analogies.csv). \n",
        "\n",
        "1. read CSV file\n",
        "2. group analogy entries by type (column: `type`)\n",
        "3. for each type entry (**in the lab, just set type=\"family\"** to reduce the required time) use the first 3 word vectors to compute the fourth\n",
        "    - Entry: `Athens,Greece,Baghdad,Iraq`\n",
        "    - `v(Greece) - v(Athens) + v(Baghdad) = res_v` \n",
        "    - Get the most similar vectors to `res_v`\n",
        "    - Compute in how many cases the correct word is among the top K (if `v[Iraq]` is among the K most similar words) with `K = 1, 3, 5, 10`\n",
        "\n",
        "$top(k) = \\dfrac{\\sum_{i=1}^{N} f(i)}{|E|}$\n",
        "\n",
        "where $f(i) = 1$ if the target word is among the top k and $f(i) = 0$ otherwise.\n",
        "\n",
        "$|E|$ is the total number of entries for the considered type.\n",
        "\n",
        "**Notes:**\n",
        "1. Try with the model trained on `text8`, is there any issue?\n",
        "2. Test the model trained on Google News available in gensim.\n",
        "\n"
      ]
    },
    {
      "cell_type": "code",
      "metadata": {
        "id": "VArA054TTX5y"
      },
      "source": [
        "%%capture\n",
        "! wget https://raw.githubusercontent.com/MorenoLaQuatra/DeepNLP/main/practices/P2/google_analogies.csv\n",
        "! pip install --upgrade pandas"
      ],
      "execution_count": null,
      "outputs": []
    },
    {
      "cell_type": "code",
      "metadata": {
        "id": "Y_1uHWvupNeY"
      },
      "source": [
        "from tqdm import tqdm\n",
        "\n",
        "def score_word_embedding_model (complete_df, model, analogy_type=\"family\", MAX_K=10):\n",
        "\n",
        "    top_dict = {}\n",
        "    keys = list(range(1, MAX_K+1))\n",
        "    for k in keys:\n",
        "        top_dict[k] = 0\n",
        "\n",
        "    temp_df = complete_df.loc[complete_df['type'] == analogy_type]\n",
        "    word_1_list = temp_df[\"word1\"].tolist()\n",
        "    word_2_list = temp_df[\"word2\"].tolist()\n",
        "    word_3_list = temp_df[\"word3\"].tolist()\n",
        "    target_list = temp_df[\"target\"].tolist()\n",
        "\n",
        "    for i, _ in enumerate(tqdm(word_1_list)):\n",
        "        try:\n",
        "            try:\n",
        "                most_similar_words = model.most_similar(positive=[word_2_list[i], word_3_list[i]], negative=[word_1_list[i]], topn=10)\n",
        "            except: \n",
        "                most_similar_words = model.wv.most_similar(positive=[word_2_list[i], word_3_list[i]], negative=[word_1_list[i]], topn=10)\n",
        "            #print (most_similar_words)\n",
        "            most_similar_words_list=[w[0] for w in most_similar_words]\n",
        "            if target_list[i] in most_similar_words_list:\n",
        "                index = most_similar_words_list.index(target_list[i])\n",
        "                positive_keys = range(index+1, MAX_K+1)\n",
        "                for pk in positive_keys:\n",
        "                    top_dict[pk]+=1\n",
        "        except Exception as e:\n",
        "            print (e)\n",
        "    \n",
        "    print (\"-------------------------\")\n",
        "    print (\"Results for\", analogy_type)\n",
        "    print (\"-------------------------\")\n",
        "    for k in top_dict.keys():\n",
        "        print (\"@\"+str(k), \"=\", top_dict[k]/len(target_list))"
      ],
      "execution_count": null,
      "outputs": []
    },
    {
      "cell_type": "code",
      "metadata": {
        "id": "LDPl6w1ob3WX"
      },
      "source": [
        "# Executing this cell could take ~5 minutes\n",
        "import gensim.downloader\n",
        "w2v_google_news_model = gensim.downloader.load('word2vec-google-news-300')"
      ],
      "execution_count": null,
      "outputs": []
    },
    {
      "cell_type": "code",
      "metadata": {
        "id": "6ykQt1UPkjfj",
        "colab": {
          "base_uri": "https://localhost:8080/"
        },
        "outputId": "d658c1d4-8bfa-4b84-b619-f06c44418ed9"
      },
      "source": [
        "import pandas as pd\n",
        "df = pd.read_csv(\"google_analogies.csv\")\n",
        "\n",
        "df_family = df[df[\"type\"]==\"family\"]\n",
        "df_family.reset_index(drop=True, inplace=True)\n",
        "print(df_family)"
      ],
      "execution_count": null,
      "outputs": [
        {
          "output_type": "stream",
          "name": "stdout",
          "text": [
            "     Unnamed: 0    type  word1 word2        word3        target\n",
            "0          8363  family    boy  girl      brother        sister\n",
            "1          8364  family    boy  girl     brothers       sisters\n",
            "2          8365  family    boy  girl          dad           mom\n",
            "3          8366  family    boy  girl       father        mother\n",
            "4          8367  family    boy  girl  grandfather   grandmother\n",
            "..          ...     ...    ...   ...          ...           ...\n",
            "501        8864  family  uncle  aunt          son      daughter\n",
            "502        8865  family  uncle  aunt         sons     daughters\n",
            "503        8866  family  uncle  aunt  stepbrother    stepsister\n",
            "504        8867  family  uncle  aunt   stepfather    stepmother\n",
            "505        8868  family  uncle  aunt      stepson  stepdaughter\n",
            "\n",
            "[506 rows x 6 columns]\n"
          ]
        }
      ]
    },
    {
      "cell_type": "code",
      "metadata": {
        "id": "oWMl-oOrOFix"
      },
      "source": [
        "arr = []\n",
        "for i in range(len(df_family)):\n",
        "    word1 = df_family['word1'][i]\n",
        "    word2 = df_family['word2'][i]\n",
        "    word3 = df_family['word3'][i]\n",
        "    target = df_family['target'][i]\n",
        "\n",
        "    vec1 = w2v_google_news_model.wv[word1]\n",
        "    vec2 = w2v_google_news_model.wv[word2]\n",
        "    vec3 = w2v_google_news_model.wv[word3]\n",
        "    \n",
        "\n",
        "    res_v = vec1 - vec2 + vec3\n",
        "\n",
        "    result = w2v_google_news_model.wv.most_similar(positive=[res_v], topn=3)\n",
        "    for i in range(3):\n",
        "        if(target == result[i][0]):\n",
        "            arr.append(1)\n",
        "        else:\n",
        "            arr.append(0)\n",
        "\n",
        "\n"
      ],
      "execution_count": null,
      "outputs": []
    },
    {
      "cell_type": "code",
      "metadata": {
        "id": "yjZO8aI5ieVl"
      },
      "source": [
        "import numpy as np\n",
        "arr = np.array(arr)\n",
        "r = len(df_family)\n",
        "accuracy = arr.sum() / r\n",
        "print(\"The accuracy with k=3 is:\",accuracy)\n"
      ],
      "execution_count": null,
      "outputs": []
    },
    {
      "cell_type": "code",
      "metadata": {
        "id": "hSJM1aCKa9JU"
      },
      "source": [
        "#With k=1 we had zero results equal to the target value\n",
        "#With k=3 we had 14 results equal to the target value\n",
        "\n",
        "#The problems with utf8 were related to the fact that words like \"stepbrother\" were not in the dictionary"
      ],
      "execution_count": null,
      "outputs": []
    },
    {
      "cell_type": "markdown",
      "metadata": {
        "id": "noRDD9hWmyZO"
      },
      "source": [
        "### **Question 3:**\n",
        "\n",
        "Train a new FastText model using gensim with text8 corpus available in the python package ([reference](https://radimrehurek.com/gensim/downloader.html)). Compute the training time for the model and store it for subsequent steps. \n",
        "\n",
        "- Is there any significant difference in training time if compared with Word2Vec training?"
      ]
    },
    {
      "cell_type": "code",
      "metadata": {
        "colab": {
          "base_uri": "https://localhost:8080/"
        },
        "id": "UPmwnDgWoLcR",
        "outputId": "358df0a5-a6c5-4336-ae10-afa6a703bcfd"
      },
      "source": [
        "import gensim.downloader as api\n",
        "from gensim.models import FastText\n",
        "import time\n",
        "dataset = api.load(\"text8\")\n",
        "start = time.time()\n",
        "ft_model = FastText(dataset)\n",
        "end = time.time()\n",
        "\n",
        "print (\"(FastText on Text8) Training took\", end-start, \"seconds\")"
      ],
      "execution_count": null,
      "outputs": [
        {
          "output_type": "stream",
          "name": "stdout",
          "text": [
            "[==================================================] 100.0% 31.6/31.6MB downloaded\n",
            "(FastText on Text8) Training took 541.6233084201813 seconds\n"
          ]
        }
      ]
    },
    {
      "cell_type": "code",
      "metadata": {
        "id": "dU8PNIzho2N1"
      },
      "source": [
        "ft_model.save(\"text8_ft.model\")"
      ],
      "execution_count": null,
      "outputs": []
    },
    {
      "cell_type": "markdown",
      "metadata": {
        "id": "UoAQbgL1oiEM"
      },
      "source": [
        "### **Question 4:**\n",
        "Score the FastText model by exploiting the same methodology presented in Q2. \n",
        "\n",
        "**Notes:**\n",
        "- Is there any issue similar to Word2Vec model?\n",
        "- Test the model trained on Wikipedia+News available in gensim."
      ]
    },
    {
      "cell_type": "code",
      "metadata": {
        "colab": {
          "base_uri": "https://localhost:8080/"
        },
        "id": "0JvL6Tizkn6j",
        "outputId": "326ffe46-c46d-4e60-ca07-5c34b968c6c9"
      },
      "source": [
        "import gensim.downloader\n",
        "ft_wiki_news_model = gensim.downloader.load('fasttext-wiki-news-subwords-300')"
      ],
      "execution_count": null,
      "outputs": [
        {
          "output_type": "stream",
          "name": "stdout",
          "text": [
            "[==================================================] 100.0% 958.5/958.4MB downloaded\n"
          ]
        }
      ]
    },
    {
      "cell_type": "code",
      "metadata": {
        "colab": {
          "base_uri": "https://localhost:8080/"
        },
        "id": "VAxNm95StlZs",
        "outputId": "e8534b6c-368e-435c-b1c6-3c529fb31d75"
      },
      "source": [
        "print (\"Text8 model - FastText\")\n",
        "score_word_embedding_model(df_family,ft_model)\n",
        "print (\"Wikipedia+News model - FastText\")\n",
        "score_word_embedding_model(df_family,ft_wiki_news_model)"
      ],
      "execution_count": null,
      "outputs": [
        {
          "output_type": "stream",
          "name": "stdout",
          "text": [
            "Text8 model - FastText\n"
          ]
        },
        {
          "output_type": "stream",
          "name": "stderr",
          "text": [
            "  0%|          | 0/506 [00:00<?, ?it/s]/usr/local/lib/python3.7/dist-packages/ipykernel_launcher.py:19: DeprecationWarning: Call to deprecated `most_similar` (Method will be removed in 4.0.0, use self.wv.most_similar() instead).\n",
            "100%|██████████| 506/506 [00:02<00:00, 197.19it/s]\n"
          ]
        },
        {
          "output_type": "stream",
          "name": "stdout",
          "text": [
            "-------------------------\n",
            "Results for family\n",
            "-------------------------\n",
            "@1 = 0.2845849802371542\n",
            "@2 = 0.3952569169960474\n",
            "@3 = 0.4505928853754941\n",
            "@4 = 0.4762845849802372\n",
            "@5 = 0.4980237154150198\n",
            "@6 = 0.5177865612648221\n",
            "@7 = 0.5375494071146245\n",
            "@8 = 0.5513833992094862\n",
            "@9 = 0.5711462450592886\n",
            "@10 = 0.5790513833992095\n",
            "Wikipedia+News model - FastText\n"
          ]
        },
        {
          "output_type": "stream",
          "name": "stderr",
          "text": [
            "100%|██████████| 506/506 [01:07<00:00,  7.46it/s]"
          ]
        },
        {
          "output_type": "stream",
          "name": "stdout",
          "text": [
            "-------------------------\n",
            "Results for family\n",
            "-------------------------\n",
            "@1 = 0.849802371541502\n",
            "@2 = 0.924901185770751\n",
            "@3 = 0.950592885375494\n",
            "@4 = 0.9525691699604744\n",
            "@5 = 0.9604743083003953\n",
            "@6 = 0.9664031620553359\n",
            "@7 = 0.9723320158102767\n",
            "@8 = 0.9802371541501976\n",
            "@9 = 0.9822134387351779\n",
            "@10 = 0.9841897233201581\n"
          ]
        },
        {
          "output_type": "stream",
          "name": "stderr",
          "text": [
            "\n"
          ]
        }
      ]
    },
    {
      "cell_type": "markdown",
      "metadata": {
        "id": "WRneIhkoxV_O"
      },
      "source": [
        "### **Question 5** (optional) \n",
        "Evaluate Word2Vec and FastText models  on the analogy task for the whole dataset (include all analogy types)."
      ]
    },
    {
      "cell_type": "markdown",
      "metadata": {
        "id": "k-AuxU7YhU7D"
      },
      "source": [
        "## Sentence Embeddings\n",
        "\n",
        "Key takeaways from lessons and in-class practices:\n",
        "- Doc2Vec is an extension of the Word2Vec framework\n",
        "- It incorporate Document ID to obtain a more accurate representation of a document/paragraph\n",
        "- Training document vectors are pre-computed, however you can infer vectors for new documents\n",
        "- InferSent exploit a deep learning architecture to supervisedly learn sentence representations\n",
        "- InferSent vectors could exploit both Word2Vec or FastText as word embedding models."
      ]
    },
    {
      "cell_type": "markdown",
      "metadata": {
        "id": "60_q4G-xyooQ"
      },
      "source": [
        "### **Question 6:**\n",
        "\n",
        "Train a Doc2Vec model using gensim with text8 corpus. Compute the training time for the model and store it for subsequent steps."
      ]
    },
    {
      "cell_type": "code",
      "metadata": {
        "id": "9eIj2s1skr-s"
      },
      "source": [
        "from gensim.models import Doc2Vec\n",
        "\n",
        "import gensim.downloader as api\n",
        "dataset = api.load(\"text8\")\n",
        "data = [d for d in dataset]\n",
        "\n",
        "def tagged_document(list_of_list_of_words):\n",
        "   for i, list_of_words in enumerate(list_of_list_of_words):\n",
        "      yield gensim.models.doc2vec.TaggedDocument(list_of_words, [i])\n",
        "data_for_training = list(tagged_document(data))"
      ],
      "execution_count": null,
      "outputs": []
    },
    {
      "cell_type": "code",
      "metadata": {
        "id": "kWwKNO8SoBBm"
      },
      "source": [
        "model = gensim.models.doc2vec.Doc2Vec(vector_size=40, min_count=2, epochs=30)\n",
        "model.build_vocab(data_for_training)\n",
        "model.train(data_for_training, total_examples=model.corpus_count, epochs=model.epochs)"
      ],
      "execution_count": null,
      "outputs": []
    },
    {
      "cell_type": "markdown",
      "metadata": {
        "id": "gCqY7VFOwsK9"
      },
      "source": [
        "### **Question 7 (qualitative Evaluation)**\n",
        "Perform some qualitative experiments by computing the cosine similarities between sentences composed by yourself."
      ]
    },
    {
      "cell_type": "code",
      "metadata": {
        "colab": {
          "base_uri": "https://localhost:8080/"
        },
        "id": "KrYt1-LckvSI",
        "outputId": "af95f3b0-aab3-44d2-8088-839cabc22af7"
      },
      "source": [
        "from sklearn.metrics.pairwise import cosine_similarity\n",
        "\n",
        "vector_1 = model.infer_vector([\"university\", \"course\"])\n",
        "vector_2 = model.infer_vector([\"college\", \"graduate\"])\n",
        "print (vector_1.shape)\n",
        "print (cosine_similarity(vector_1.reshape(1, -1), vector_2.reshape(1, -1)))"
      ],
      "execution_count": null,
      "outputs": [
        {
          "output_type": "stream",
          "name": "stdout",
          "text": [
            "(40,)\n",
            "[[0.5709212]]\n"
          ]
        }
      ]
    },
    {
      "cell_type": "markdown",
      "metadata": {
        "id": "OBqLp1LnTeME"
      },
      "source": [
        "### **Question 8** (Extrinsic Evaluation)\n",
        "\n",
        "Extrinsic evaluation measure performance of the word/sentence/paragraph embedding model for a downstream NLP task (e.g., Text Classification).\n",
        "\n",
        "We can use different configuration, training corpora or even different models to build a complete architecture for the task at hand.\n",
        "\n",
        "For this practice we use the text classification dataset available [here](https://github.com/MorenoLaQuatra/DeepNLP/blob/main/practices/P2/news_headline_classification.csv) - [source: Kaggle](https://www.kaggle.com/rmisra/news-category-dataset)\n",
        "\n",
        "**Note:** consider using just the first 10.000 headlines to reduce runtime during the lab.\n",
        "\n",
        "Compute the accuracy of 3 classification models each one built with one of the models introduced in this practice:\n",
        "- Word2Vec model pretrained on Google News corpus\n",
        "- FastText model pretrained on Wikipedia+News corpus\n",
        "- **[Optional]** Doc2Vec model pretrained on Text8 corpus\n",
        "- **[Optional]** InferSent pretrained model (v2) - [reference](https://github.com/facebookresearch/InferSent)\n",
        "\n",
        "The procedure to create a classification system is sketched below:\n",
        "1. Choose a machine learning (multi-class) classifier (e.g., MLP)\n",
        "2. Split the data collection in train/test (80%/20%)\n",
        "3. Use text vectors obtained by pretrained model as input of the classifier\n",
        "4. Measure the accuracy of the classification system\n",
        "5. Repeat step 3-4 using different embedding models \n",
        "\n",
        "\n",
        "**Note:** You need to choose an aggregation function (e.g., average) to obtain sentence embeddings from word vectors.\n",
        "\n",
        "Which model has better performance? Report the performance of each variant of the classification system."
      ]
    },
    {
      "cell_type": "code",
      "metadata": {
        "id": "qp2k7npVeoTB"
      },
      "source": [
        "!wget https://raw.githubusercontent.com/MorenoLaQuatra/DeepNLP/main/practices/P2/news_headline_classification.csv"
      ],
      "execution_count": null,
      "outputs": []
    },
    {
      "cell_type": "code",
      "metadata": {
        "id": "uKQZIX6ckzcA"
      },
      "source": [
        "import pandas as pd\n",
        "df_news_clf = pd.read_csv(\"news_headline_classification.csv\")\n",
        "list_sentences = df_news_clf[\"headline\"].tolist()\n",
        "list_sentences = list_sentences[:10000]\n",
        "list_labels = df_news_clf[\"category\"].tolist()\n",
        "list_labels = list_labels[:10000]"
      ],
      "execution_count": null,
      "outputs": []
    },
    {
      "cell_type": "markdown",
      "metadata": {
        "id": "9VBbEBO6xmEL"
      },
      "source": [
        "**Word2Vec + Average aggregation function**"
      ]
    },
    {
      "cell_type": "code",
      "metadata": {
        "id": "mmjcUbRCk2Ll"
      },
      "source": [
        "from nltk import word_tokenize\n",
        "import numpy as np\n",
        "from tqdm import tqdm\n",
        "list_w2v_vectors = []\n",
        "for s in tqdm(list_sentences):\n",
        "    words = word_tokenize(s)\n",
        "    words_vectors = []\n",
        "    for w in words:\n",
        "        try:\n",
        "            words_vectors.append(w2v_google_news_model[w])\n",
        "        except Exception as e:\n",
        "            continue\n",
        "    if len(words_vectors) > 0:\n",
        "        sentence_vector = np.mean(words_vectors, axis=0)\n",
        "    else:\n",
        "        sentence_vector = np.zeros(300)\n",
        "    list_w2v_vectors.append(sentence_vector)\n",
        "\n",
        "del w2v_google_news_model\n",
        "del w2v_model"
      ],
      "execution_count": null,
      "outputs": []
    },
    {
      "cell_type": "code",
      "metadata": {
        "id": "e3P0PMJoyVfK"
      },
      "source": [
        "from sklearn.neural_network import MLPClassifier\n",
        "from sklearn.model_selection import train_test_split\n",
        "from sklearn.metrics import accuracy_score, classification_report\n",
        "\n",
        "X_train, X_test, y_train, y_test = train_test_split(list_w2v_vectors, list_labels , test_size=0.20, random_state=42)\n",
        "mlp = MLPClassifier(hidden_layer_sizes=(50), verbose=True)\n",
        "mlp = mlp.fit(X_train, y_train)\n",
        "y_pred = mlp.predict(X_test)\n",
        "print (accuracy_score(y_test, y_pred))\n",
        "print (classification_report(y_test, y_pred))"
      ],
      "execution_count": null,
      "outputs": []
    },
    {
      "cell_type": "markdown",
      "metadata": {
        "id": "kTLSmUJXxeId"
      },
      "source": [
        "**FastText + Average aggregation function**"
      ]
    },
    {
      "cell_type": "code",
      "metadata": {
        "id": "VtMLnlTyk4J7"
      },
      "source": [
        "from nltk import word_tokenize\n",
        "import numpy as np\n",
        "list_ft_vectors = []\n",
        "for s in tqdm(list_sentences):\n",
        "    words = word_tokenize(s)\n",
        "    words_vectors = []\n",
        "    for w in words:\n",
        "        try:\n",
        "            words_vectors.append(ft_wiki_news_model[w])\n",
        "        except Exception as e:\n",
        "            #print (e)\n",
        "            continue\n",
        "    if len(words_vectors) > 0:\n",
        "        sentence_vector = np.mean(words_vectors, axis=0)\n",
        "    else:\n",
        "        sentence_vector = np.zeros(300)\n",
        "    list_ft_vectors.append(sentence_vector)"
      ],
      "execution_count": null,
      "outputs": []
    },
    {
      "cell_type": "code",
      "metadata": {
        "id": "FXeRGPMbyb0O"
      },
      "source": [
        "X_train, X_test, y_train, y_test = train_test_split(list_ft_vectors, list_labels , test_size=0.20, random_state=42)\n",
        "mlp = MLPClassifier(hidden_layer_sizes=(50), verbose=True)\n",
        "mlp = mlp.fit(X_train, y_train)\n",
        "y_pred = mlp.predict(X_test)\n",
        "\n",
        "print (accuracy_score(y_test, y_pred))\n",
        "print (classification_report(y_test, y_pred))\n",
        "\n",
        "del ft_wiki_news_model\n",
        "del ft_model\n",
        "del mlp"
      ],
      "execution_count": null,
      "outputs": []
    },
    {
      "cell_type": "markdown",
      "metadata": {
        "id": "mBjSrAx9xrON"
      },
      "source": [
        "**Doc2Vec (Text8)**"
      ]
    },
    {
      "cell_type": "code",
      "metadata": {
        "id": "rbcc4qWmk9Jt"
      },
      "source": [
        "from nltk import word_tokenize\n",
        "import numpy as np\n",
        "list_d2v_vectors = []\n",
        "for s in tqdm(list_sentences):\n",
        "    words = word_tokenize(s)\n",
        "    try:\n",
        "        sentence_vector = d2v_model.infer_vector(words)\n",
        "    except Exception as e:\n",
        "        print (e)\n",
        "        sentence_vector = np.zeros(300)\n",
        "\n",
        "    list_d2v_vectors.append(sentence_vector)"
      ],
      "execution_count": null,
      "outputs": []
    },
    {
      "cell_type": "code",
      "metadata": {
        "id": "uiG9q6URyfyw"
      },
      "source": [
        "X_train, X_test, y_train, y_test = train_test_split(list_d2v_vectors, list_labels , test_size=0.20, random_state=42)\n",
        "mlp = MLPClassifier(hidden_layer_sizes=(50), verbose=True)\n",
        "mlp = mlp.fit(X_train, y_train)\n",
        "y_pred = mlp.predict(X_test)\n",
        "\n",
        "print (accuracy_score(y_test, y_pred))\n",
        "print (classification_report(y_test, y_pred))\n",
        "\n",
        "del d2v_model\n",
        "del mlp"
      ],
      "execution_count": null,
      "outputs": []
    },
    {
      "cell_type": "markdown",
      "metadata": {
        "id": "t7DkgKMcxrIy"
      },
      "source": [
        "**InferSent**"
      ]
    },
    {
      "cell_type": "code",
      "metadata": {
        "id": "JCIQ1EEUYEwk"
      },
      "source": [
        "%%capture\n",
        "# InferSent download required files\n",
        "\n",
        "! mkdir fastText\n",
        "! curl -Lo fastText/crawl-300d-2M.vec.zip https://dl.fbaipublicfiles.com/fasttext/vectors-english/crawl-300d-2M.vec.zip\n",
        "! unzip fastText/crawl-300d-2M.vec.zip -d fastText/\n",
        "! mkdir encoder\n",
        "! curl -Lo encoder/infersent2.pkl https://dl.fbaipublicfiles.com/infersent/infersent2.pkl\n",
        "! git clone https://github.com/facebookresearch/InferSent.git"
      ],
      "execution_count": null,
      "outputs": []
    },
    {
      "cell_type": "code",
      "metadata": {
        "id": "QmtxnnC0Y9Cb"
      },
      "source": [
        "from InferSent.models import InferSent\n",
        "import torch\n",
        "V = 2\n",
        "MODEL_PATH = 'encoder/infersent%s.pkl' % V\n",
        "params_model = {'bsize': 64, 'word_emb_dim': 300, 'enc_lstm_dim': 2048,\n",
        "                'pool_type': 'max', 'dpout_model': 0.0, 'version': V}\n",
        "infersent = InferSent(params_model)\n",
        "infersent.load_state_dict(torch.load(MODEL_PATH))\n",
        "\n",
        "W2V_PATH = 'fastText/crawl-300d-2M.vec'\n",
        "infersent.set_w2v_path(W2V_PATH)"
      ],
      "execution_count": null,
      "outputs": []
    },
    {
      "cell_type": "code",
      "metadata": {
        "id": "hfKMM5E9lDeY"
      },
      "source": [
        "infersent.build_vocab(list_sentences, tokenize=True)"
      ],
      "execution_count": null,
      "outputs": []
    },
    {
      "cell_type": "code",
      "metadata": {
        "id": "-TrYkveFyuw7"
      },
      "source": [
        "from nltk import word_tokenize\n",
        "import numpy as np\n",
        "infersent_embeddings = infersent.encode(list_sentences, tokenize=True)"
      ],
      "execution_count": null,
      "outputs": []
    },
    {
      "cell_type": "code",
      "metadata": {
        "id": "v9JbYBNlyuzV"
      },
      "source": [
        "X_train, X_test, y_train, y_test = train_test_split(infersent_embeddings, list_labels , test_size=0.20, random_state=42)\n",
        "mlp = MLPClassifier(hidden_layer_sizes=(50), verbose=True)\n",
        "mlp = mlp.fit(X_train, y_train)\n",
        "y_pred = mlp.predict(X_test)\n",
        "print (accuracy_score(y_test, y_pred))\n",
        "print (classification_report(y_test, y_pred))"
      ],
      "execution_count": null,
      "outputs": []
    }
  ]
}